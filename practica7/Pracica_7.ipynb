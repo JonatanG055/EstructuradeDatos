{
 "cells": [
  {
   "cell_type": "code",
   "execution_count": 2,
   "metadata": {},
   "outputs": [
    {
     "name": "stdout",
     "output_type": "stream",
     "text": [
      "No se puede dividir entre cero\n"
     ]
    }
   ],
   "source": [
    "try:\n",
    "    resultado = 10/0\n",
    "except ZeroDivisionError:\n",
    "    print(\"No se puede dividir entre cero\")"
   ]
  },
  {
   "cell_type": "code",
   "execution_count": 4,
   "metadata": {},
   "outputs": [
    {
     "name": "stdout",
     "output_type": "stream",
     "text": [
      "NO se puede dividir entre cero\n"
     ]
    }
   ],
   "source": [
    "try:\n",
    "    valor = int(input(\"Ingrese un numero\"))\n",
    "    resultado = 10/valor\n",
    "except ValueError:\n",
    "    print(\"Error debe Ingresar un valor valido\")\n",
    "except ZeroDivisionError:\n",
    "    print(\"NO se puede dividir entre cero\")\n"
   ]
  },
  {
   "cell_type": "code",
   "execution_count": null,
   "metadata": {},
   "outputs": [],
   "source": [
    "try:\n",
    "    archivo = open(\"archivo.txt\", \"r\")\n",
    "    contenido = archivo.read()\n",
    "FileNotFoundError:\n",
    "      print(\"Error el archivo no existe\")\n",
    "finally:\n",
    "    archivo.close()\n"
   ]
  },
  {
   "cell_type": "code",
   "execution_count": 19,
   "metadata": {},
   "outputs": [
    {
     "name": "stdout",
     "output_type": "stream",
     "text": [
      "5.0\n"
     ]
    }
   ],
   "source": [
    "def dividir(a,b):\n",
    "    if b == 0:\n",
    "        raise   ValueError(\"NO se puede dividir entre cero.\")\n",
    "    return a/b\n",
    "\n",
    "try:\n",
    "    resultado = dividir(10,2)\n",
    "except ValueError as e:\n",
    "    print(e)\n",
    "finally:\n",
    "    print(resultado)"
   ]
  },
  {
   "cell_type": "code",
   "execution_count": 53,
   "metadata": {},
   "outputs": [
    {
     "name": "stdout",
     "output_type": "stream",
     "text": [
      "Saldo retirado, su cuenta queda a 500.0\n"
     ]
    }
   ],
   "source": [
    "class CuentaBancaria:\n",
    "    def __init__(self, saldo_inicial):\n",
    "        self.saldo = saldo_inicial\n",
    "\n",
    "    def retirar(self, cantidad):\n",
    "        if self.saldo == 0:\n",
    "            raise ValueError(\"Su cuenta esta en 0\")\n",
    "        if cantidad < 0:\n",
    "            raise ValueError(\"El monto no puede ser negativo\")\n",
    "        if cantidad > self.saldo and cantidad < self.saldo:\n",
    "            raise ValueError(\"Saldo insuficiente\")\n",
    "\n",
    "        self.saldo -= cantidad\n",
    "        print(\"Saldo retirado, su cuenta queda a {}\".format(self.saldo))\n",
    "\n",
    "cuenta = CuentaBancaria(1000)\n",
    "\n",
    "try:\n",
    "    cantidad_retirar = float(input(\"Digite la cantidad a reirar\"))\n",
    "    cuenta.retirar(cantidad_retirar)\n",
    "except ValueError as e:\n",
    "    print(e)\n",
    "\n",
    "    \n"
   ]
  }
 ],
 "metadata": {
  "interpreter": {
   "hash": "00ebb8e2879c2cf15e9209c2ee4ee1f0a61ab3b8c19ef5b9d6c35775417399b1"
  },
  "kernelspec": {
   "display_name": "Python 3.11.1 64-bit",
   "language": "python",
   "name": "python3"
  },
  "language_info": {
   "codemirror_mode": {
    "name": "ipython",
    "version": 3
   },
   "file_extension": ".py",
   "mimetype": "text/x-python",
   "name": "python",
   "nbconvert_exporter": "python",
   "pygments_lexer": "ipython3",
   "version": "3.11.1"
  },
  "orig_nbformat": 4
 },
 "nbformat": 4,
 "nbformat_minor": 2
}
